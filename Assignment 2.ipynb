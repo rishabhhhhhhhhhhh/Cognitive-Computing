{
 "cells": [
  {
   "cell_type": "markdown",
   "id": "4d8e38da",
   "metadata": {},
   "source": [
    "# Assignment 2"
   ]
  },
  {
   "cell_type": "markdown",
   "id": "ea50db8d",
   "metadata": {},
   "source": [
    "## Q1"
   ]
  },
  {
   "cell_type": "code",
   "execution_count": 1,
   "id": "e4decc61",
   "metadata": {},
   "outputs": [],
   "source": [
    "L=[10,20,30,40,50,60,70,80]"
   ]
  },
  {
   "cell_type": "code",
   "execution_count": 2,
   "id": "5616a99b",
   "metadata": {},
   "outputs": [
    {
     "data": {
      "text/plain": [
       "[10, 20, 30, 40, 50, 60, 70, 80, 200, 300]"
      ]
     },
     "execution_count": 2,
     "metadata": {},
     "output_type": "execute_result"
    }
   ],
   "source": [
    "L.extend([200,300])\n",
    "L"
   ]
  },
  {
   "cell_type": "code",
   "execution_count": 3,
   "id": "87672ac0",
   "metadata": {},
   "outputs": [
    {
     "data": {
      "text/plain": [
       "[20, 40, 50, 60, 70, 80, 200, 300]"
      ]
     },
     "execution_count": 3,
     "metadata": {},
     "output_type": "execute_result"
    }
   ],
   "source": [
    "L.remove(10)\n",
    "L.remove(30)\n",
    "L"
   ]
  },
  {
   "cell_type": "code",
   "execution_count": 4,
   "id": "6eded1ad",
   "metadata": {},
   "outputs": [
    {
     "data": {
      "text/plain": [
       "[20, 40, 50, 60, 70, 80, 200, 300]"
      ]
     },
     "execution_count": 4,
     "metadata": {},
     "output_type": "execute_result"
    }
   ],
   "source": [
    "L.sort()\n",
    "L"
   ]
  },
  {
   "cell_type": "code",
   "execution_count": 5,
   "id": "addd2387",
   "metadata": {
    "scrolled": true
   },
   "outputs": [
    {
     "data": {
      "text/plain": [
       "[300, 200, 80, 70, 60, 50, 40, 20]"
      ]
     },
     "execution_count": 5,
     "metadata": {},
     "output_type": "execute_result"
    }
   ],
   "source": [
    "L.sort(reverse=True)\n",
    "L"
   ]
  },
  {
   "cell_type": "markdown",
   "id": "bba7f331",
   "metadata": {},
   "source": [
    "## Q2"
   ]
  },
  {
   "cell_type": "code",
   "execution_count": 6,
   "id": "e7f38eb7",
   "metadata": {},
   "outputs": [
    {
     "data": {
      "text/plain": [
       "(45, 89.5, 76, 45.4, 89, 92, 58, 45)"
      ]
     },
     "execution_count": 6,
     "metadata": {},
     "output_type": "execute_result"
    }
   ],
   "source": [
    "scores=(45,89.5,76,45.4,89,92,58,45)\n",
    "scores"
   ]
  },
  {
   "cell_type": "code",
   "execution_count": 7,
   "id": "c3f6603e",
   "metadata": {},
   "outputs": [
    {
     "data": {
      "text/plain": [
       "92"
      ]
     },
     "execution_count": 7,
     "metadata": {},
     "output_type": "execute_result"
    }
   ],
   "source": [
    "max(scores)"
   ]
  },
  {
   "cell_type": "code",
   "execution_count": 8,
   "id": "dc8b15e4",
   "metadata": {},
   "outputs": [
    {
     "data": {
      "text/plain": [
       "5"
      ]
     },
     "execution_count": 8,
     "metadata": {},
     "output_type": "execute_result"
    }
   ],
   "source": [
    "scores.index(max(scores))"
   ]
  },
  {
   "cell_type": "code",
   "execution_count": 9,
   "id": "a22c5caf",
   "metadata": {},
   "outputs": [
    {
     "data": {
      "text/plain": [
       "45"
      ]
     },
     "execution_count": 9,
     "metadata": {},
     "output_type": "execute_result"
    }
   ],
   "source": [
    "min(scores)"
   ]
  },
  {
   "cell_type": "code",
   "execution_count": 10,
   "id": "f0d8b605",
   "metadata": {},
   "outputs": [
    {
     "data": {
      "text/plain": [
       "2"
      ]
     },
     "execution_count": 10,
     "metadata": {},
     "output_type": "execute_result"
    }
   ],
   "source": [
    "scores.count(min(scores))"
   ]
  },
  {
   "cell_type": "code",
   "execution_count": 11,
   "id": "1db5defb",
   "metadata": {},
   "outputs": [
    {
     "data": {
      "text/plain": [
       "[45, 58, 92, 89, 45.4, 76, 89.5, 45]"
      ]
     },
     "execution_count": 11,
     "metadata": {},
     "output_type": "execute_result"
    }
   ],
   "source": [
    "scores=scores[::-1]\n",
    "list1=list(scores)\n",
    "list1"
   ]
  },
  {
   "cell_type": "code",
   "execution_count": 12,
   "id": "81269d01",
   "metadata": {},
   "outputs": [
    {
     "name": "stdout",
     "output_type": "stream",
     "text": [
      "Enter a number:76\n",
      "Found at index  5\n"
     ]
    }
   ],
   "source": [
    "value=int(input(\"Enter a number:\"))\n",
    "count=0\n",
    "found=False\n",
    "for i in list1:\n",
    "    if i==value:\n",
    "        found=True\n",
    "        break\n",
    "    count+=1    \n",
    "if (found):\n",
    "    print(\"Found at index \",count)\n",
    "else:\n",
    "    print(\"Not found\")"
   ]
  },
  {
   "cell_type": "markdown",
   "id": "8db3770b",
   "metadata": {},
   "source": [
    "## Q3"
   ]
  },
  {
   "cell_type": "code",
   "execution_count": 13,
   "id": "c0097c23",
   "metadata": {},
   "outputs": [
    {
     "name": "stdout",
     "output_type": "stream",
     "text": [
      "[140, 634, 436, 680, 622, 216, 845, 428, 198, 710, 657, 763, 690, 867, 422, 171, 831, 222, 457, 398, 325, 510, 276, 772, 446, 143, 294, 236, 801, 598, 520, 750, 529, 134, 396, 107, 498, 223, 851, 111, 394, 265, 295, 596, 436, 722, 755, 362, 259, 579, 746, 641, 695, 106, 141, 365, 133, 862, 414, 417, 225, 719, 757, 892, 500, 834, 854, 770, 470, 835, 223, 208, 325, 581, 574, 223, 127, 889, 132, 453, 475, 569, 224, 878, 254, 678, 567, 410, 497, 260, 525, 714, 709, 630, 652, 700, 139, 129, 598, 159]\n"
     ]
    }
   ],
   "source": [
    "import random\n",
    "list2=[]\n",
    "for i in range(100):\n",
    "    list2.append(random.randint(100,900))\n",
    "print(list2)"
   ]
  },
  {
   "cell_type": "code",
   "execution_count": 14,
   "id": "14b9a8ef",
   "metadata": {},
   "outputs": [
    {
     "name": "stdout",
     "output_type": "stream",
     "text": [
      "140\n",
      "634\n",
      "436\n",
      "680\n",
      "622\n",
      "216\n",
      "428\n",
      "198\n",
      "710\n",
      "690\n",
      "422\n",
      "222\n",
      "398\n",
      "510\n",
      "276\n",
      "772\n",
      "446\n",
      "294\n",
      "236\n",
      "598\n",
      "520\n",
      "750\n",
      "134\n",
      "396\n",
      "498\n",
      "394\n",
      "596\n",
      "436\n",
      "722\n",
      "362\n",
      "746\n",
      "106\n",
      "862\n",
      "414\n",
      "892\n",
      "500\n",
      "834\n",
      "854\n",
      "770\n",
      "470\n",
      "208\n",
      "574\n",
      "132\n",
      "224\n",
      "878\n",
      "254\n",
      "678\n",
      "410\n",
      "260\n",
      "714\n",
      "630\n",
      "652\n",
      "700\n",
      "598\n"
     ]
    }
   ],
   "source": [
    "#even numbers\n",
    "for i in list2:\n",
    "    if(i%2==0):\n",
    "        print(i)"
   ]
  },
  {
   "cell_type": "code",
   "execution_count": 15,
   "id": "82c3077d",
   "metadata": {},
   "outputs": [
    {
     "name": "stdout",
     "output_type": "stream",
     "text": [
      "845\n",
      "657\n",
      "763\n",
      "867\n",
      "171\n",
      "831\n",
      "457\n",
      "325\n",
      "143\n",
      "801\n",
      "529\n",
      "107\n",
      "223\n",
      "851\n",
      "111\n",
      "265\n",
      "295\n",
      "755\n",
      "259\n",
      "579\n",
      "641\n",
      "695\n",
      "141\n",
      "365\n",
      "133\n",
      "417\n",
      "225\n",
      "719\n",
      "757\n",
      "835\n",
      "223\n",
      "325\n",
      "581\n",
      "223\n",
      "127\n",
      "889\n",
      "453\n",
      "475\n",
      "569\n",
      "567\n",
      "497\n",
      "525\n",
      "709\n",
      "139\n",
      "129\n",
      "159\n"
     ]
    }
   ],
   "source": [
    "#odd numbers\n",
    "for i in list2:\n",
    "    if(i%2!=0):\n",
    "        print(i)"
   ]
  },
  {
   "cell_type": "code",
   "execution_count": 16,
   "id": "4d37b179",
   "metadata": {},
   "outputs": [],
   "source": [
    "#prime numbers function\n",
    "def is_prime(x):\n",
    "    if (x<2):\n",
    "        return False\n",
    "    for i in range(2,int(x/2)+1):\n",
    "        if (x%i==0):\n",
    "            return False\n",
    "    return True"
   ]
  },
  {
   "cell_type": "code",
   "execution_count": 17,
   "id": "1c2d7b2c",
   "metadata": {},
   "outputs": [
    {
     "name": "stdout",
     "output_type": "stream",
     "text": [
      "457\n",
      "107\n",
      "223\n",
      "641\n",
      "719\n",
      "757\n",
      "223\n",
      "223\n",
      "127\n",
      "569\n",
      "709\n",
      "139\n"
     ]
    }
   ],
   "source": [
    "for i in list2:\n",
    "    if (is_prime(i)):\n",
    "        print(i)"
   ]
  },
  {
   "cell_type": "markdown",
   "id": "70dc94e1",
   "metadata": {},
   "source": [
    "## Q4"
   ]
  },
  {
   "cell_type": "code",
   "execution_count": 18,
   "id": "051cba95",
   "metadata": {},
   "outputs": [],
   "source": [
    "A={34,56,78,90}\n",
    "B={78,45,90,23}"
   ]
  },
  {
   "cell_type": "code",
   "execution_count": 19,
   "id": "91e2cba6",
   "metadata": {},
   "outputs": [
    {
     "data": {
      "text/plain": [
       "{23, 34, 45, 56, 78, 90}"
      ]
     },
     "execution_count": 19,
     "metadata": {},
     "output_type": "execute_result"
    }
   ],
   "source": [
    "#union of sets\n",
    "union=A|B\n",
    "union"
   ]
  },
  {
   "cell_type": "code",
   "execution_count": 20,
   "id": "80630f39",
   "metadata": {},
   "outputs": [
    {
     "data": {
      "text/plain": [
       "{78, 90}"
      ]
     },
     "execution_count": 20,
     "metadata": {},
     "output_type": "execute_result"
    }
   ],
   "source": [
    "#intersection of sets\n",
    "intersection=A&B\n",
    "intersection"
   ]
  },
  {
   "cell_type": "code",
   "execution_count": 21,
   "id": "6c9f39f2",
   "metadata": {},
   "outputs": [
    {
     "data": {
      "text/plain": [
       "{23, 34, 45, 56}"
      ]
     },
     "execution_count": 21,
     "metadata": {},
     "output_type": "execute_result"
    }
   ],
   "source": [
    "sym_diff=union-intersection\n",
    "sym_diff"
   ]
  },
  {
   "cell_type": "code",
   "execution_count": 22,
   "id": "cef1e19c",
   "metadata": {},
   "outputs": [
    {
     "data": {
      "text/plain": [
       "False"
      ]
     },
     "execution_count": 22,
     "metadata": {},
     "output_type": "execute_result"
    }
   ],
   "source": [
    "#A is a subset of B?\n",
    "A.issubset(B)"
   ]
  },
  {
   "cell_type": "code",
   "execution_count": 23,
   "id": "7132522a",
   "metadata": {},
   "outputs": [
    {
     "data": {
      "text/plain": [
       "False"
      ]
     },
     "execution_count": 23,
     "metadata": {},
     "output_type": "execute_result"
    }
   ],
   "source": [
    "#B is a superset of A?\n",
    "B.issuperset(A)"
   ]
  },
  {
   "cell_type": "code",
   "execution_count": 24,
   "id": "ff716247",
   "metadata": {},
   "outputs": [
    {
     "name": "stdout",
     "output_type": "stream",
     "text": [
      "Enter num:10\n",
      "It's not present\n"
     ]
    }
   ],
   "source": [
    "Val=int(input(\"Enter num:\"))\n",
    "try:\n",
    "    A.remove(Val)\n",
    "    print(\"Deleted Successfully\")\n",
    "except KeyError:\n",
    "    print(\"It's not present\")"
   ]
  },
  {
   "cell_type": "markdown",
   "id": "bf8ff941",
   "metadata": {},
   "source": [
    "## Q5"
   ]
  },
  {
   "cell_type": "code",
   "execution_count": 25,
   "id": "2957fab3",
   "metadata": {},
   "outputs": [
    {
     "data": {
      "text/plain": [
       "{'name': 'Kelly', 'age': 25, 'salary': 8000, 'city': 'Ney York'}"
      ]
     },
     "execution_count": 25,
     "metadata": {},
     "output_type": "execute_result"
    }
   ],
   "source": [
    "my_dict={\"name\":\"Kelly\",\"age\":25,\"salary\":8000,\"city\":\"Ney York\"}\n",
    "my_dict"
   ]
  },
  {
   "cell_type": "code",
   "execution_count": 26,
   "id": "b2d1d0ee",
   "metadata": {},
   "outputs": [
    {
     "data": {
      "text/plain": [
       "{'name': 'Kelly', 'age': 25, 'salary': 8000, 'location': 'Ney York'}"
      ]
     },
     "execution_count": 26,
     "metadata": {},
     "output_type": "execute_result"
    }
   ],
   "source": [
    "my_dict[\"location\"]=my_dict.pop(\"city\")\n",
    "my_dict"
   ]
  }
 ],
 "metadata": {
  "kernelspec": {
   "display_name": "Python 3 (ipykernel)",
   "language": "python",
   "name": "python3"
  },
  "language_info": {
   "codemirror_mode": {
    "name": "ipython",
    "version": 3
   },
   "file_extension": ".py",
   "mimetype": "text/x-python",
   "name": "python",
   "nbconvert_exporter": "python",
   "pygments_lexer": "ipython3",
   "version": "3.12.3"
  }
 },
 "nbformat": 4,
 "nbformat_minor": 5
}
