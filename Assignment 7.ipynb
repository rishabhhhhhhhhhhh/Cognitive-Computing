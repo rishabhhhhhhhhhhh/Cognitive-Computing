{
 "cells": [
  {
   "cell_type": "code",
   "execution_count": 1,
   "id": "0d880967",
   "metadata": {},
   "outputs": [],
   "source": [
    "import numpy as np\n",
    "import pandas as pd\n",
    "import random\n",
    "import matplotlib.pyplot as plt\n",
    "import seaborn as sns"
   ]
  },
  {
   "cell_type": "code",
   "execution_count": 2,
   "id": "05c91c1f",
   "metadata": {},
   "outputs": [],
   "source": [
    "np.random.seed(102317044)\n",
    "data={\"Electronics\":[np.random.randint(1000,5000) for _ in range (12)],\n",
    "      \"Clothing\":[np.random.randint(1000,5000) for _ in range (12)],\n",
    "      \"Home & Kitchen\":[np.random.randint(1000,5000) for _ in range (12)],\n",
    "      \"Sports\":[np.random.randint(1000,5000) for _ in range (12)]}\n",
    "months=['Jan','Feb','Mar','Apr','May','Jun','Jul','Aug','Sep','Oct','Nov','Dec']\n",
    "df=pd.DataFrame(data,index=months)"
   ]
  },
  {
   "cell_type": "code",
   "execution_count": 3,
   "id": "7309b8a4",
   "metadata": {},
   "outputs": [
    {
     "data": {
      "text/html": [
       "<div>\n",
       "<style scoped>\n",
       "    .dataframe tbody tr th:only-of-type {\n",
       "        vertical-align: middle;\n",
       "    }\n",
       "\n",
       "    .dataframe tbody tr th {\n",
       "        vertical-align: top;\n",
       "    }\n",
       "\n",
       "    .dataframe thead th {\n",
       "        text-align: right;\n",
       "    }\n",
       "</style>\n",
       "<table border=\"1\" class=\"dataframe\">\n",
       "  <thead>\n",
       "    <tr style=\"text-align: right;\">\n",
       "      <th></th>\n",
       "      <th>Electronics</th>\n",
       "      <th>Clothing</th>\n",
       "      <th>Home &amp; Kitchen</th>\n",
       "      <th>Sports</th>\n",
       "    </tr>\n",
       "  </thead>\n",
       "  <tbody>\n",
       "    <tr>\n",
       "      <th>Jan</th>\n",
       "      <td>4459</td>\n",
       "      <td>4091</td>\n",
       "      <td>3572</td>\n",
       "      <td>3099</td>\n",
       "    </tr>\n",
       "    <tr>\n",
       "      <th>Feb</th>\n",
       "      <td>1325</td>\n",
       "      <td>2318</td>\n",
       "      <td>3055</td>\n",
       "      <td>3998</td>\n",
       "    </tr>\n",
       "    <tr>\n",
       "      <th>Mar</th>\n",
       "      <td>2318</td>\n",
       "      <td>4758</td>\n",
       "      <td>2644</td>\n",
       "      <td>2370</td>\n",
       "    </tr>\n",
       "    <tr>\n",
       "      <th>Apr</th>\n",
       "      <td>4968</td>\n",
       "      <td>3873</td>\n",
       "      <td>4248</td>\n",
       "      <td>4077</td>\n",
       "    </tr>\n",
       "    <tr>\n",
       "      <th>May</th>\n",
       "      <td>1866</td>\n",
       "      <td>3617</td>\n",
       "      <td>2053</td>\n",
       "      <td>4762</td>\n",
       "    </tr>\n",
       "  </tbody>\n",
       "</table>\n",
       "</div>"
      ],
      "text/plain": [
       "     Electronics  Clothing  Home & Kitchen  Sports\n",
       "Jan         4459      4091            3572    3099\n",
       "Feb         1325      2318            3055    3998\n",
       "Mar         2318      4758            2644    2370\n",
       "Apr         4968      3873            4248    4077\n",
       "May         1866      3617            2053    4762"
      ]
     },
     "execution_count": 3,
     "metadata": {},
     "output_type": "execute_result"
    }
   ],
   "source": [
    "df.head()"
   ]
  },
  {
   "cell_type": "code",
   "execution_count": 4,
   "id": "dcec9495",
   "metadata": {},
   "outputs": [
    {
     "data": {
      "text/html": [
       "<div>\n",
       "<style scoped>\n",
       "    .dataframe tbody tr th:only-of-type {\n",
       "        vertical-align: middle;\n",
       "    }\n",
       "\n",
       "    .dataframe tbody tr th {\n",
       "        vertical-align: top;\n",
       "    }\n",
       "\n",
       "    .dataframe thead th {\n",
       "        text-align: right;\n",
       "    }\n",
       "</style>\n",
       "<table border=\"1\" class=\"dataframe\">\n",
       "  <thead>\n",
       "    <tr style=\"text-align: right;\">\n",
       "      <th></th>\n",
       "      <th>Electronics</th>\n",
       "      <th>Clothing</th>\n",
       "      <th>Home &amp; Kitchen</th>\n",
       "      <th>Sports</th>\n",
       "    </tr>\n",
       "  </thead>\n",
       "  <tbody>\n",
       "    <tr>\n",
       "      <th>count</th>\n",
       "      <td>12.000000</td>\n",
       "      <td>12.000000</td>\n",
       "      <td>12.000000</td>\n",
       "      <td>12.000000</td>\n",
       "    </tr>\n",
       "    <tr>\n",
       "      <th>mean</th>\n",
       "      <td>2736.250000</td>\n",
       "      <td>3277.916667</td>\n",
       "      <td>3202.250000</td>\n",
       "      <td>3740.500000</td>\n",
       "    </tr>\n",
       "    <tr>\n",
       "      <th>std</th>\n",
       "      <td>1309.555589</td>\n",
       "      <td>1182.259890</td>\n",
       "      <td>1203.412884</td>\n",
       "      <td>969.087622</td>\n",
       "    </tr>\n",
       "    <tr>\n",
       "      <th>min</th>\n",
       "      <td>1000.000000</td>\n",
       "      <td>1453.000000</td>\n",
       "      <td>1140.000000</td>\n",
       "      <td>2221.000000</td>\n",
       "    </tr>\n",
       "    <tr>\n",
       "      <th>25%</th>\n",
       "      <td>1876.500000</td>\n",
       "      <td>2175.750000</td>\n",
       "      <td>2496.250000</td>\n",
       "      <td>2916.750000</td>\n",
       "    </tr>\n",
       "    <tr>\n",
       "      <th>50%</th>\n",
       "      <td>2274.500000</td>\n",
       "      <td>3617.000000</td>\n",
       "      <td>3491.500000</td>\n",
       "      <td>4078.000000</td>\n",
       "    </tr>\n",
       "    <tr>\n",
       "      <th>75%</th>\n",
       "      <td>3985.500000</td>\n",
       "      <td>4139.250000</td>\n",
       "      <td>4243.500000</td>\n",
       "      <td>4415.500000</td>\n",
       "    </tr>\n",
       "    <tr>\n",
       "      <th>max</th>\n",
       "      <td>4968.000000</td>\n",
       "      <td>4758.000000</td>\n",
       "      <td>4600.000000</td>\n",
       "      <td>4762.000000</td>\n",
       "    </tr>\n",
       "  </tbody>\n",
       "</table>\n",
       "</div>"
      ],
      "text/plain": [
       "       Electronics     Clothing  Home & Kitchen       Sports\n",
       "count    12.000000    12.000000       12.000000    12.000000\n",
       "mean   2736.250000  3277.916667     3202.250000  3740.500000\n",
       "std    1309.555589  1182.259890     1203.412884   969.087622\n",
       "min    1000.000000  1453.000000     1140.000000  2221.000000\n",
       "25%    1876.500000  2175.750000     2496.250000  2916.750000\n",
       "50%    2274.500000  3617.000000     3491.500000  4078.000000\n",
       "75%    3985.500000  4139.250000     4243.500000  4415.500000\n",
       "max    4968.000000  4758.000000     4600.000000  4762.000000"
      ]
     },
     "execution_count": 4,
     "metadata": {},
     "output_type": "execute_result"
    }
   ],
   "source": [
    "#summary\n",
    "df.describe()"
   ]
  },
  {
   "cell_type": "code",
   "execution_count": 5,
   "id": "b59de9ab",
   "metadata": {},
   "outputs": [
    {
     "data": {
      "text/plain": [
       "Electronics       32835\n",
       "Clothing          39335\n",
       "Home & Kitchen    38427\n",
       "Sports            44886\n",
       "dtype: int64"
      ]
     },
     "execution_count": 5,
     "metadata": {},
     "output_type": "execute_result"
    }
   ],
   "source": [
    "#total sales per category\n",
    "total_sales_per_category=df.sum(axis=0)\n",
    "total_sales_per_category"
   ]
  },
  {
   "cell_type": "code",
   "execution_count": 6,
   "id": "322df34e",
   "metadata": {},
   "outputs": [
    {
     "data": {
      "text/plain": [
       "Jan    15221\n",
       "Feb    10696\n",
       "Mar    12090\n",
       "Apr    17166\n",
       "May    12298\n",
       "Jun    15968\n",
       "Jul     9213\n",
       "Aug    11726\n",
       "Sep    11749\n",
       "Oct    14816\n",
       "Nov    10593\n",
       "Dec    13947\n",
       "dtype: int64"
      ]
     },
     "execution_count": 6,
     "metadata": {},
     "output_type": "execute_result"
    }
   ],
   "source": [
    "#total sales per mpnth\n",
    "total_sales_per_month=df.sum(axis=1)\n",
    "total_sales_per_month"
   ]
  },
  {
   "cell_type": "code",
   "execution_count": 7,
   "id": "4b0943c2",
   "metadata": {},
   "outputs": [
    {
     "data": {
      "text/plain": [
       "Electronics       22.629684\n",
       "Clothing           4.674186\n",
       "Home & Kitchen    38.874228\n",
       "Sports            10.693347\n",
       "dtype: float64"
      ]
     },
     "execution_count": 7,
     "metadata": {},
     "output_type": "execute_result"
    }
   ],
   "source": [
    "monthly_growth = df.pct_change()\n",
    "average_growth_per_category = monthly_growth.mean() * 100\n",
    "average_growth_per_category"
   ]
  },
  {
   "cell_type": "code",
   "execution_count": 8,
   "id": "11b53676",
   "metadata": {},
   "outputs": [],
   "source": [
    "df['Total Sales']=total_sales_per_month"
   ]
  },
  {
   "cell_type": "code",
   "execution_count": 9,
   "id": "8af7324b",
   "metadata": {},
   "outputs": [
    {
     "data": {
      "text/html": [
       "<div>\n",
       "<style scoped>\n",
       "    .dataframe tbody tr th:only-of-type {\n",
       "        vertical-align: middle;\n",
       "    }\n",
       "\n",
       "    .dataframe tbody tr th {\n",
       "        vertical-align: top;\n",
       "    }\n",
       "\n",
       "    .dataframe thead th {\n",
       "        text-align: right;\n",
       "    }\n",
       "</style>\n",
       "<table border=\"1\" class=\"dataframe\">\n",
       "  <thead>\n",
       "    <tr style=\"text-align: right;\">\n",
       "      <th></th>\n",
       "      <th>Electronics</th>\n",
       "      <th>Clothing</th>\n",
       "      <th>Home &amp; Kitchen</th>\n",
       "      <th>Sports</th>\n",
       "      <th>Total Sales</th>\n",
       "      <th>Growth</th>\n",
       "    </tr>\n",
       "  </thead>\n",
       "  <tbody>\n",
       "    <tr>\n",
       "      <th>Jan</th>\n",
       "      <td>4459</td>\n",
       "      <td>4091</td>\n",
       "      <td>3572</td>\n",
       "      <td>3099</td>\n",
       "      <td>15221</td>\n",
       "      <td>NaN</td>\n",
       "    </tr>\n",
       "    <tr>\n",
       "      <th>Feb</th>\n",
       "      <td>1325</td>\n",
       "      <td>2318</td>\n",
       "      <td>3055</td>\n",
       "      <td>3998</td>\n",
       "      <td>10696</td>\n",
       "      <td>-29.728664</td>\n",
       "    </tr>\n",
       "    <tr>\n",
       "      <th>Mar</th>\n",
       "      <td>2318</td>\n",
       "      <td>4758</td>\n",
       "      <td>2644</td>\n",
       "      <td>2370</td>\n",
       "      <td>12090</td>\n",
       "      <td>13.032909</td>\n",
       "    </tr>\n",
       "    <tr>\n",
       "      <th>Apr</th>\n",
       "      <td>4968</td>\n",
       "      <td>3873</td>\n",
       "      <td>4248</td>\n",
       "      <td>4077</td>\n",
       "      <td>17166</td>\n",
       "      <td>41.985112</td>\n",
       "    </tr>\n",
       "    <tr>\n",
       "      <th>May</th>\n",
       "      <td>1866</td>\n",
       "      <td>3617</td>\n",
       "      <td>2053</td>\n",
       "      <td>4762</td>\n",
       "      <td>12298</td>\n",
       "      <td>-28.358383</td>\n",
       "    </tr>\n",
       "    <tr>\n",
       "      <th>Jun</th>\n",
       "      <td>2657</td>\n",
       "      <td>4284</td>\n",
       "      <td>4517</td>\n",
       "      <td>4510</td>\n",
       "      <td>15968</td>\n",
       "      <td>29.842251</td>\n",
       "    </tr>\n",
       "    <tr>\n",
       "      <th>Jul</th>\n",
       "      <td>1000</td>\n",
       "      <td>4640</td>\n",
       "      <td>1264</td>\n",
       "      <td>2309</td>\n",
       "      <td>9213</td>\n",
       "      <td>-42.303357</td>\n",
       "    </tr>\n",
       "    <tr>\n",
       "      <th>Aug</th>\n",
       "      <td>2031</td>\n",
       "      <td>3232</td>\n",
       "      <td>4242</td>\n",
       "      <td>2221</td>\n",
       "      <td>11726</td>\n",
       "      <td>27.276674</td>\n",
       "    </tr>\n",
       "    <tr>\n",
       "      <th>Sep</th>\n",
       "      <td>2231</td>\n",
       "      <td>1749</td>\n",
       "      <td>3411</td>\n",
       "      <td>4358</td>\n",
       "      <td>11749</td>\n",
       "      <td>0.196145</td>\n",
       "    </tr>\n",
       "    <tr>\n",
       "      <th>Oct</th>\n",
       "      <td>1880</td>\n",
       "      <td>3617</td>\n",
       "      <td>4600</td>\n",
       "      <td>4719</td>\n",
       "      <td>14816</td>\n",
       "      <td>26.104349</td>\n",
       "    </tr>\n",
       "    <tr>\n",
       "      <th>Nov</th>\n",
       "      <td>3921</td>\n",
       "      <td>1453</td>\n",
       "      <td>1140</td>\n",
       "      <td>4079</td>\n",
       "      <td>10593</td>\n",
       "      <td>-28.502970</td>\n",
       "    </tr>\n",
       "    <tr>\n",
       "      <th>Dec</th>\n",
       "      <td>4179</td>\n",
       "      <td>1703</td>\n",
       "      <td>3681</td>\n",
       "      <td>4384</td>\n",
       "      <td>13947</td>\n",
       "      <td>31.662419</td>\n",
       "    </tr>\n",
       "  </tbody>\n",
       "</table>\n",
       "</div>"
      ],
      "text/plain": [
       "     Electronics  Clothing  Home & Kitchen  Sports  Total Sales     Growth\n",
       "Jan         4459      4091            3572    3099        15221        NaN\n",
       "Feb         1325      2318            3055    3998        10696 -29.728664\n",
       "Mar         2318      4758            2644    2370        12090  13.032909\n",
       "Apr         4968      3873            4248    4077        17166  41.985112\n",
       "May         1866      3617            2053    4762        12298 -28.358383\n",
       "Jun         2657      4284            4517    4510        15968  29.842251\n",
       "Jul         1000      4640            1264    2309         9213 -42.303357\n",
       "Aug         2031      3232            4242    2221        11726  27.276674\n",
       "Sep         2231      1749            3411    4358        11749   0.196145\n",
       "Oct         1880      3617            4600    4719        14816  26.104349\n",
       "Nov         3921      1453            1140    4079        10593 -28.502970\n",
       "Dec         4179      1703            3681    4384        13947  31.662419"
      ]
     },
     "execution_count": 9,
     "metadata": {},
     "output_type": "execute_result"
    }
   ],
   "source": [
    "df['Growth']=df['Total Sales'].pct_change() * 100\n",
    "df"
   ]
  },
  {
   "cell_type": "code",
   "execution_count": 10,
   "id": "9f4995b2",
   "metadata": {},
   "outputs": [
    {
     "data": {
      "text/html": [
       "<div>\n",
       "<style scoped>\n",
       "    .dataframe tbody tr th:only-of-type {\n",
       "        vertical-align: middle;\n",
       "    }\n",
       "\n",
       "    .dataframe tbody tr th {\n",
       "        vertical-align: top;\n",
       "    }\n",
       "\n",
       "    .dataframe thead th {\n",
       "        text-align: right;\n",
       "    }\n",
       "</style>\n",
       "<table border=\"1\" class=\"dataframe\">\n",
       "  <thead>\n",
       "    <tr style=\"text-align: right;\">\n",
       "      <th></th>\n",
       "      <th>Electronics</th>\n",
       "      <th>Clothing</th>\n",
       "      <th>Home &amp; Kitchen</th>\n",
       "      <th>Sports</th>\n",
       "      <th>Total Sales</th>\n",
       "      <th>Growth</th>\n",
       "      <th>Discounted Electronics</th>\n",
       "    </tr>\n",
       "  </thead>\n",
       "  <tbody>\n",
       "    <tr>\n",
       "      <th>Jan</th>\n",
       "      <td>4459</td>\n",
       "      <td>4091</td>\n",
       "      <td>3572</td>\n",
       "      <td>3099</td>\n",
       "      <td>15221</td>\n",
       "      <td>NaN</td>\n",
       "      <td>4013.1</td>\n",
       "    </tr>\n",
       "    <tr>\n",
       "      <th>Feb</th>\n",
       "      <td>1325</td>\n",
       "      <td>2318</td>\n",
       "      <td>3055</td>\n",
       "      <td>3998</td>\n",
       "      <td>10696</td>\n",
       "      <td>-29.728664</td>\n",
       "      <td>1192.5</td>\n",
       "    </tr>\n",
       "    <tr>\n",
       "      <th>Mar</th>\n",
       "      <td>2318</td>\n",
       "      <td>4758</td>\n",
       "      <td>2644</td>\n",
       "      <td>2370</td>\n",
       "      <td>12090</td>\n",
       "      <td>13.032909</td>\n",
       "      <td>2086.2</td>\n",
       "    </tr>\n",
       "    <tr>\n",
       "      <th>Apr</th>\n",
       "      <td>4968</td>\n",
       "      <td>3873</td>\n",
       "      <td>4248</td>\n",
       "      <td>4077</td>\n",
       "      <td>17166</td>\n",
       "      <td>41.985112</td>\n",
       "      <td>4471.2</td>\n",
       "    </tr>\n",
       "    <tr>\n",
       "      <th>May</th>\n",
       "      <td>1866</td>\n",
       "      <td>3617</td>\n",
       "      <td>2053</td>\n",
       "      <td>4762</td>\n",
       "      <td>12298</td>\n",
       "      <td>-28.358383</td>\n",
       "      <td>1679.4</td>\n",
       "    </tr>\n",
       "    <tr>\n",
       "      <th>Jun</th>\n",
       "      <td>2657</td>\n",
       "      <td>4284</td>\n",
       "      <td>4517</td>\n",
       "      <td>4510</td>\n",
       "      <td>15968</td>\n",
       "      <td>29.842251</td>\n",
       "      <td>2391.3</td>\n",
       "    </tr>\n",
       "    <tr>\n",
       "      <th>Jul</th>\n",
       "      <td>1000</td>\n",
       "      <td>4640</td>\n",
       "      <td>1264</td>\n",
       "      <td>2309</td>\n",
       "      <td>9213</td>\n",
       "      <td>-42.303357</td>\n",
       "      <td>900.0</td>\n",
       "    </tr>\n",
       "    <tr>\n",
       "      <th>Aug</th>\n",
       "      <td>2031</td>\n",
       "      <td>3232</td>\n",
       "      <td>4242</td>\n",
       "      <td>2221</td>\n",
       "      <td>11726</td>\n",
       "      <td>27.276674</td>\n",
       "      <td>1827.9</td>\n",
       "    </tr>\n",
       "    <tr>\n",
       "      <th>Sep</th>\n",
       "      <td>2231</td>\n",
       "      <td>1749</td>\n",
       "      <td>3411</td>\n",
       "      <td>4358</td>\n",
       "      <td>11749</td>\n",
       "      <td>0.196145</td>\n",
       "      <td>2007.9</td>\n",
       "    </tr>\n",
       "    <tr>\n",
       "      <th>Oct</th>\n",
       "      <td>1880</td>\n",
       "      <td>3617</td>\n",
       "      <td>4600</td>\n",
       "      <td>4719</td>\n",
       "      <td>14816</td>\n",
       "      <td>26.104349</td>\n",
       "      <td>1692.0</td>\n",
       "    </tr>\n",
       "    <tr>\n",
       "      <th>Nov</th>\n",
       "      <td>3921</td>\n",
       "      <td>1453</td>\n",
       "      <td>1140</td>\n",
       "      <td>4079</td>\n",
       "      <td>10593</td>\n",
       "      <td>-28.502970</td>\n",
       "      <td>3528.9</td>\n",
       "    </tr>\n",
       "    <tr>\n",
       "      <th>Dec</th>\n",
       "      <td>4179</td>\n",
       "      <td>1703</td>\n",
       "      <td>3681</td>\n",
       "      <td>4384</td>\n",
       "      <td>13947</td>\n",
       "      <td>31.662419</td>\n",
       "      <td>3761.1</td>\n",
       "    </tr>\n",
       "  </tbody>\n",
       "</table>\n",
       "</div>"
      ],
      "text/plain": [
       "     Electronics  Clothing  Home & Kitchen  Sports  Total Sales     Growth  \\\n",
       "Jan         4459      4091            3572    3099        15221        NaN   \n",
       "Feb         1325      2318            3055    3998        10696 -29.728664   \n",
       "Mar         2318      4758            2644    2370        12090  13.032909   \n",
       "Apr         4968      3873            4248    4077        17166  41.985112   \n",
       "May         1866      3617            2053    4762        12298 -28.358383   \n",
       "Jun         2657      4284            4517    4510        15968  29.842251   \n",
       "Jul         1000      4640            1264    2309         9213 -42.303357   \n",
       "Aug         2031      3232            4242    2221        11726  27.276674   \n",
       "Sep         2231      1749            3411    4358        11749   0.196145   \n",
       "Oct         1880      3617            4600    4719        14816  26.104349   \n",
       "Nov         3921      1453            1140    4079        10593 -28.502970   \n",
       "Dec         4179      1703            3681    4384        13947  31.662419   \n",
       "\n",
       "     Discounted Electronics  \n",
       "Jan                  4013.1  \n",
       "Feb                  1192.5  \n",
       "Mar                  2086.2  \n",
       "Apr                  4471.2  \n",
       "May                  1679.4  \n",
       "Jun                  2391.3  \n",
       "Jul                   900.0  \n",
       "Aug                  1827.9  \n",
       "Sep                  2007.9  \n",
       "Oct                  1692.0  \n",
       "Nov                  3528.9  \n",
       "Dec                  3761.1  "
      ]
     },
     "execution_count": 10,
     "metadata": {},
     "output_type": "execute_result"
    }
   ],
   "source": [
    "df['Discounted Electronics']=df['Electronics']*0.90\n",
    "df"
   ]
  },
  {
   "cell_type": "code",
   "execution_count": 11,
   "id": "bbb2b76c",
   "metadata": {},
   "outputs": [],
   "source": [
    "sns.set(style=\"whitegrid\")"
   ]
  },
  {
   "cell_type": "code",
   "execution_count": 12,
   "id": "7a01de7c",
   "metadata": {},
   "outputs": [],
   "source": [
    "columns=list(df.columns)"
   ]
  },
  {
   "cell_type": "code",
   "execution_count": 13,
   "id": "b42f2537",
   "metadata": {},
   "outputs": [
    {
     "data": {
      "image/png": "[encoded data removed]",
      "text/plain": [
       "<Figure size 1200x600 with 1 Axes>"
      ]
     },
     "metadata": {},
     "output_type": "display_data"
    }
   ],
   "source": [
    "plt.figure(figsize=(12, 6))\n",
    "for col in columns:\n",
    "    plt.plot(df.index, df[col], marker='o', label=col)\n",
    "plt.title('Monthly Sales Trends by Category')\n",
    "plt.xlabel('Month')\n",
    "plt.ylabel('Sales Units')\n",
    "plt.legend()\n",
    "plt.show()"
   ]
  },
  {
   "cell_type": "code",
   "execution_count": 14,
   "id": "36f052db",
   "metadata": {},
   "outputs": [
    {
     "data": {
      "image/png": "[encoded data removed]",
      "text/plain": [
       "<Figure size 1000x600 with 1 Axes>"
      ]
     },
     "metadata": {},
     "output_type": "display_data"
    }
   ],
   "source": [
    "plt.figure(figsize=(10, 6))\n",
    "sns.boxplot(data=df[columns])\n",
    "plt.title('Sales Distribution by Category')\n",
    "plt.ylabel('Sales Units')\n",
    "plt.tight_layout()\n",
    "plt.show()"
   ]
  },
  {
   "cell_type": "code",
   "execution_count": 15,
   "id": "65eba27e",
   "metadata": {},
   "outputs": [
    {
     "data": {
      "text/plain": [
       "array([[ 1, -2,  3],\n",
       "       [-4,  5, -6]])"
      ]
     },
     "execution_count": 15,
     "metadata": {},
     "output_type": "execute_result"
    }
   ],
   "source": [
    "array=np.array([[1,-2,3],[-4,5,-6]])\n",
    "array"
   ]
  },
  {
   "cell_type": "code",
   "execution_count": 16,
   "id": "4e92b515",
   "metadata": {},
   "outputs": [
    {
     "data": {
      "text/plain": [
       "array([[1, 2, 3],\n",
       "       [4, 5, 6]])"
      ]
     },
     "execution_count": 16,
     "metadata": {},
     "output_type": "execute_result"
    }
   ],
   "source": [
    "absolute=np.abs(array)\n",
    "absolute"
   ]
  },
  {
   "cell_type": "code",
   "execution_count": 17,
   "id": "fcdc0c18",
   "metadata": {},
   "outputs": [
    {
     "data": {
      "text/plain": [
       "array([ 1, -2,  3, -4,  5, -6])"
      ]
     },
     "execution_count": 17,
     "metadata": {},
     "output_type": "execute_result"
    }
   ],
   "source": [
    "flattened=array.flatten()\n",
    "flattened"
   ]
  },
  {
   "cell_type": "code",
   "execution_count": 18,
   "id": "6b0c7ea0",
   "metadata": {},
   "outputs": [
    {
     "data": {
      "text/plain": [
       "array([-3.5, -0.5,  2.5])"
      ]
     },
     "execution_count": 18,
     "metadata": {},
     "output_type": "execute_result"
    }
   ],
   "source": [
    "# 1. For Flattened array\n",
    "percentiles_flat = np.percentile(flattened, [25, 50, 75])\n",
    "percentiles_flat"
   ]
  },
  {
   "cell_type": "code",
   "execution_count": 19,
   "id": "b4a8bc32",
   "metadata": {},
   "outputs": [
    {
     "data": {
      "text/plain": [
       "array([[-2.75, -0.25, -3.75],\n",
       "       [-1.5 ,  1.5 , -1.5 ],\n",
       "       [-0.25,  3.25,  0.75]])"
      ]
     },
     "execution_count": 19,
     "metadata": {},
     "output_type": "execute_result"
    }
   ],
   "source": [
    "# 2. For each column (axis=0)\n",
    "percentiles_columns = np.percentile(array, [25, 50, 75], axis=0)\n",
    "percentiles_columns"
   ]
  },
  {
   "cell_type": "code",
   "execution_count": 20,
   "id": "ddd6dd7a",
   "metadata": {},
   "outputs": [
    {
     "data": {
      "text/plain": [
       "array([[-0.5, -5. ],\n",
       "       [ 1. , -4. ],\n",
       "       [ 2. ,  0.5]])"
      ]
     },
     "execution_count": 20,
     "metadata": {},
     "output_type": "execute_result"
    }
   ],
   "source": [
    "# 3. For each row (axis=1)\n",
    "percentiles_rows = np.percentile(array, [25, 50, 75], axis=1)\n",
    "percentiles_rows"
   ]
  },
  {
   "cell_type": "code",
   "execution_count": 21,
   "id": "7cd40ae3",
   "metadata": {},
   "outputs": [
    {
     "name": "stdout",
     "output_type": "stream",
     "text": [
      "Mean: -0.5 Median: -0.5 Standard Deviation: 3.8622100754188224\n",
      "\n",
      "\n"
     ]
    }
   ],
   "source": [
    "# For the flattened array:\n",
    "mean_flat = np.mean(flattened)\n",
    "median_flat = np.median(flattened)\n",
    "std_flat = np.std(flattened)\n",
    "print(\"Mean:\", mean_flat, \"Median:\", median_flat, \"Standard Deviation:\", std_flat)\n",
    "print(\"\\n\")"
   ]
  },
  {
   "cell_type": "code",
   "execution_count": 22,
   "id": "5a2e62b8",
   "metadata": {},
   "outputs": [
    {
     "name": "stdout",
     "output_type": "stream",
     "text": [
      "Mean: [-1.5  1.5 -1.5] Median: [-1.5  1.5 -1.5] Standard Deviation: [2.5 3.5 4.5]\n",
      "\n",
      "\n"
     ]
    }
   ],
   "source": [
    "# For each column:\n",
    "mean_cols = np.mean(array, axis=0)\n",
    "median_cols = np.median(array, axis=0)\n",
    "std_cols = np.std(array, axis=0)\n",
    "print(\"Mean:\", mean_cols, \"Median:\", median_cols, \"Standard Deviation:\", std_cols)\n",
    "print(\"\\n\")"
   ]
  },
  {
   "cell_type": "code",
   "execution_count": 23,
   "id": "29a28c94",
   "metadata": {},
   "outputs": [
    {
     "name": "stdout",
     "output_type": "stream",
     "text": [
      "Mean: [ 0.66666667 -1.66666667] Median: [ 1. -4.] Standard Deviation: [2.05480467 4.78423336]\n"
     ]
    }
   ],
   "source": [
    "# For each row:\n",
    "mean_rows = np.mean(array, axis=1)\n",
    "median_rows = np.median(array, axis=1)\n",
    "std_rows = np.std(array, axis=1)\n",
    "print(\"Mean:\", mean_rows, \"Median:\", median_rows, \"Standard Deviation:\", std_rows)"
   ]
  },
  {
   "cell_type": "code",
   "execution_count": 24,
   "id": "eec0b1ea",
   "metadata": {},
   "outputs": [
    {
     "data": {
      "text/plain": [
       "array([-1.8, -1.6, -0.5,  0.5,  1.6,  1.8,  3. ])"
      ]
     },
     "execution_count": 24,
     "metadata": {},
     "output_type": "execute_result"
    }
   ],
   "source": [
    "a=np.array([-1.8,-1.6,-0.5,0.5,1.6,1.8,3.0])\n",
    "a"
   ]
  },
  {
   "cell_type": "code",
   "execution_count": 25,
   "id": "6d8ab38f",
   "metadata": {},
   "outputs": [
    {
     "data": {
      "text/plain": [
       "array([-2., -2., -1.,  0.,  1.,  1.,  3.])"
      ]
     },
     "execution_count": 25,
     "metadata": {},
     "output_type": "execute_result"
    }
   ],
   "source": [
    "np.floor(a)"
   ]
  },
  {
   "cell_type": "code",
   "execution_count": 26,
   "id": "a8f8b44c",
   "metadata": {},
   "outputs": [
    {
     "data": {
      "text/plain": [
       "array([-1., -1., -0.,  1.,  2.,  2.,  3.])"
      ]
     },
     "execution_count": 26,
     "metadata": {},
     "output_type": "execute_result"
    }
   ],
   "source": [
    "np.ceil(a)"
   ]
  },
  {
   "cell_type": "code",
   "execution_count": 27,
   "id": "120209fc",
   "metadata": {},
   "outputs": [
    {
     "data": {
      "text/plain": [
       "array([-1., -1., -0.,  0.,  1.,  1.,  3.])"
      ]
     },
     "execution_count": 27,
     "metadata": {},
     "output_type": "execute_result"
    }
   ],
   "source": [
    "np.trunc(a)"
   ]
  },
  {
   "cell_type": "code",
   "execution_count": 28,
   "id": "2b3f5228",
   "metadata": {},
   "outputs": [
    {
     "data": {
      "text/plain": [
       "array([-2., -2., -0.,  0.,  2.,  2.,  3.])"
      ]
     },
     "execution_count": 28,
     "metadata": {},
     "output_type": "execute_result"
    }
   ],
   "source": [
    "np.round(a)"
   ]
  },
  {
   "cell_type": "code",
   "execution_count": 29,
   "id": "6e609bab",
   "metadata": {},
   "outputs": [
    {
     "data": {
      "text/plain": [
       "[11, 22, 33, 44, 55, 66]"
      ]
     },
     "execution_count": 29,
     "metadata": {},
     "output_type": "execute_result"
    }
   ],
   "source": [
    "#Swapping 1st and 3rd index values\n",
    "i=1\n",
    "j=3\n",
    "l1=[11,22,33,44,55,66]\n",
    "l1"
   ]
  },
  {
   "cell_type": "code",
   "execution_count": 30,
   "id": "a5b05396",
   "metadata": {},
   "outputs": [
    {
     "data": {
      "text/plain": [
       "[11, 44, 33, 22, 55, 66]"
      ]
     },
     "execution_count": 30,
     "metadata": {},
     "output_type": "execute_result"
    }
   ],
   "source": [
    "temp=l1[i]\n",
    "l1[i]=l1[j]\n",
    "l1[j]=temp\n",
    "l1"
   ]
  },
  {
   "cell_type": "code",
   "execution_count": 31,
   "id": "3948c6ea",
   "metadata": {},
   "outputs": [
    {
     "data": {
      "text/plain": [
       "{1, 2, 3, 5}"
      ]
     },
     "execution_count": 31,
     "metadata": {},
     "output_type": "execute_result"
    }
   ],
   "source": [
    "s1={1,2,3,5}\n",
    "s1"
   ]
  },
  {
   "cell_type": "code",
   "execution_count": 32,
   "id": "267d09b4",
   "metadata": {},
   "outputs": [
    {
     "data": {
      "text/plain": [
       "[1, 5, 3, 2]"
      ]
     },
     "execution_count": 32,
     "metadata": {},
     "output_type": "execute_result"
    }
   ],
   "source": [
    "l2=list(s1)\n",
    "l2\n",
    "temp=l2[i]\n",
    "l2[i]=l2[j]\n",
    "l2[j]=temp\n",
    "l2"
   ]
  }
 ],
 "metadata": {
  "kernelspec": {
   "display_name": "Python 3 (ipykernel)",
   "language": "python",
   "name": "python3"
  },
  "language_info": {
   "codemirror_mode": {
    "name": "ipython",
    "version": 3
   },
   "file_extension": ".py",
   "mimetype": "text/x-python",
   "name": "python",
   "nbconvert_exporter": "python",
   "pygments_lexer": "ipython3",
   "version": "3.12.3"
  }
 },
 "nbformat": 4,
 "nbformat_minor": 5
}
