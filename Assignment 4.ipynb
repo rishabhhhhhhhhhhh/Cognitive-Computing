{
 "cells": [
  {
   "cell_type": "markdown",
   "id": "13352e58",
   "metadata": {},
   "source": [
    "# Assignment 4"
   ]
  },
  {
   "cell_type": "markdown",
   "id": "385cd5b7",
   "metadata": {},
   "source": [
    "## Q1"
   ]
  },
  {
   "cell_type": "code",
   "execution_count": 1,
   "id": "eddb4cec",
   "metadata": {},
   "outputs": [],
   "source": [
    "import numpy as np"
   ]
  },
  {
   "cell_type": "code",
   "execution_count": 2,
   "id": "1aba99ca",
   "metadata": {},
   "outputs": [
    {
     "data": {
      "text/plain": [
       "array([1, 2, 3, 4, 5])"
      ]
     },
     "execution_count": 2,
     "metadata": {},
     "output_type": "execute_result"
    }
   ],
   "source": [
    "arr1=np.array([1,2,3,4,5])\n",
    "arr1"
   ]
  },
  {
   "cell_type": "code",
   "execution_count": 3,
   "id": "9ef51ebb",
   "metadata": {},
   "outputs": [
    {
     "data": {
      "text/plain": [
       "array([3, 4, 5, 6, 7])"
      ]
     },
     "execution_count": 3,
     "metadata": {},
     "output_type": "execute_result"
    }
   ],
   "source": [
    "arr1+=2\n",
    "arr1"
   ]
  },
  {
   "cell_type": "code",
   "execution_count": 4,
   "id": "07a2a8de",
   "metadata": {},
   "outputs": [
    {
     "data": {
      "text/plain": [
       "array([ 9, 12, 15, 18, 21])"
      ]
     },
     "execution_count": 4,
     "metadata": {},
     "output_type": "execute_result"
    }
   ],
   "source": [
    "arr1*=3\n",
    "arr1"
   ]
  },
  {
   "cell_type": "code",
   "execution_count": 5,
   "id": "c6af445b",
   "metadata": {},
   "outputs": [
    {
     "data": {
      "text/plain": [
       "array([ 4.5,  6. ,  7.5,  9. , 10.5])"
      ]
     },
     "execution_count": 5,
     "metadata": {},
     "output_type": "execute_result"
    }
   ],
   "source": [
    "arr1=arr1/2\n",
    "arr1"
   ]
  },
  {
   "cell_type": "markdown",
   "id": "89cd0309",
   "metadata": {},
   "source": [
    "## Q2"
   ]
  },
  {
   "cell_type": "code",
   "execution_count": 6,
   "id": "85ba0336",
   "metadata": {},
   "outputs": [
    {
     "data": {
      "text/plain": [
       "array([5, 4, 6, 3, 2, 1])"
      ]
     },
     "execution_count": 6,
     "metadata": {},
     "output_type": "execute_result"
    }
   ],
   "source": [
    "#array reverse\n",
    "arr2=np.array([1,2,3,6,4,5])\n",
    "arr2=arr2[::-1]\n",
    "arr2"
   ]
  },
  {
   "cell_type": "code",
   "execution_count": 7,
   "id": "7fef5d70",
   "metadata": {},
   "outputs": [],
   "source": [
    "x=np.array([1,2,3,4,5,1,2,1,1,1]) \n",
    "y=np.array([1,1,1,2,3,4,2,4,3,3]) \n",
    "def mostfreq(arr):\n",
    "    value,counts=np.unique(arr,return_counts=True)\n",
    "    index=np.argmax(counts)\n",
    "    val=value[index]\n",
    "    print(\"Most frequent: \",val)\n",
    "    print(\"Index: \")\n",
    "    c=0\n",
    "    for i in arr:\n",
    "        if (i==val):\n",
    "            print(c)\n",
    "        c=c+1\n",
    "    return"
   ]
  },
  {
   "cell_type": "code",
   "execution_count": 8,
   "id": "bd5e02ab",
   "metadata": {},
   "outputs": [
    {
     "name": "stdout",
     "output_type": "stream",
     "text": [
      "Most frequent:  1\n",
      "Index: \n",
      "0\n",
      "5\n",
      "7\n",
      "8\n",
      "9\n"
     ]
    }
   ],
   "source": [
    "mostfreq(x)"
   ]
  },
  {
   "cell_type": "code",
   "execution_count": 9,
   "id": "7bf31e8a",
   "metadata": {},
   "outputs": [
    {
     "name": "stdout",
     "output_type": "stream",
     "text": [
      "Most frequent:  1\n",
      "Index: \n",
      "0\n",
      "1\n",
      "2\n"
     ]
    }
   ],
   "source": [
    "mostfreq(y)"
   ]
  },
  {
   "cell_type": "markdown",
   "id": "e08dd217",
   "metadata": {},
   "source": [
    "## Q3"
   ]
  },
  {
   "cell_type": "code",
   "execution_count": 10,
   "id": "7cbba003",
   "metadata": {
    "scrolled": true
   },
   "outputs": [
    {
     "data": {
      "text/plain": [
       "array([[10, 20, 30],\n",
       "       [40, 50, 60],\n",
       "       [70, 80, 90]])"
      ]
     },
     "execution_count": 10,
     "metadata": {},
     "output_type": "execute_result"
    }
   ],
   "source": [
    "arr=np.array([[10,20,30],[40,50,60],[70,80,90]])\n",
    "arr"
   ]
  },
  {
   "cell_type": "code",
   "execution_count": 11,
   "id": "2ec53ed4",
   "metadata": {},
   "outputs": [
    {
     "data": {
      "text/plain": [
       "20"
      ]
     },
     "execution_count": 11,
     "metadata": {},
     "output_type": "execute_result"
    }
   ],
   "source": [
    "arr[0,1]"
   ]
  },
  {
   "cell_type": "code",
   "execution_count": 12,
   "id": "266270cb",
   "metadata": {},
   "outputs": [
    {
     "data": {
      "text/plain": [
       "70"
      ]
     },
     "execution_count": 12,
     "metadata": {},
     "output_type": "execute_result"
    }
   ],
   "source": [
    "arr[2,0]"
   ]
  },
  {
   "cell_type": "markdown",
   "id": "27fbf04a",
   "metadata": {},
   "source": [
    "## Q4"
   ]
  },
  {
   "cell_type": "code",
   "execution_count": 13,
   "id": "6808cdef",
   "metadata": {},
   "outputs": [
    {
     "data": {
      "text/plain": [
       "array([ 10.  ,  13.75,  17.5 ,  21.25,  25.  ,  28.75,  32.5 ,  36.25,\n",
       "        40.  ,  43.75,  47.5 ,  51.25,  55.  ,  58.75,  62.5 ,  66.25,\n",
       "        70.  ,  73.75,  77.5 ,  81.25,  85.  ,  88.75,  92.5 ,  96.25,\n",
       "       100.  ])"
      ]
     },
     "execution_count": 13,
     "metadata": {},
     "output_type": "execute_result"
    }
   ],
   "source": [
    "rishabh=np.linspace(10,100,25)\n",
    "rishabh"
   ]
  },
  {
   "cell_type": "code",
   "execution_count": 14,
   "id": "4090a3ee",
   "metadata": {},
   "outputs": [
    {
     "data": {
      "text/plain": [
       "1"
      ]
     },
     "execution_count": 14,
     "metadata": {},
     "output_type": "execute_result"
    }
   ],
   "source": [
    "rishabh.ndim"
   ]
  },
  {
   "cell_type": "code",
   "execution_count": 15,
   "id": "4717c94d",
   "metadata": {},
   "outputs": [
    {
     "data": {
      "text/plain": [
       "(25,)"
      ]
     },
     "execution_count": 15,
     "metadata": {},
     "output_type": "execute_result"
    }
   ],
   "source": [
    "rishabh.shape"
   ]
  },
  {
   "cell_type": "code",
   "execution_count": 16,
   "id": "e7fdf78a",
   "metadata": {},
   "outputs": [
    {
     "data": {
      "text/plain": [
       "25"
      ]
     },
     "execution_count": 16,
     "metadata": {},
     "output_type": "execute_result"
    }
   ],
   "source": [
    "rishabh.size"
   ]
  },
  {
   "cell_type": "code",
   "execution_count": 17,
   "id": "ce107755",
   "metadata": {},
   "outputs": [
    {
     "data": {
      "text/plain": [
       "dtype('float64')"
      ]
     },
     "execution_count": 17,
     "metadata": {},
     "output_type": "execute_result"
    }
   ],
   "source": [
    "rishabh.dtype"
   ]
  },
  {
   "cell_type": "code",
   "execution_count": 18,
   "id": "12e649dc",
   "metadata": {},
   "outputs": [
    {
     "data": {
      "text/plain": [
       "200"
      ]
     },
     "execution_count": 18,
     "metadata": {},
     "output_type": "execute_result"
    }
   ],
   "source": [
    "rishabh.nbytes"
   ]
  },
  {
   "cell_type": "code",
   "execution_count": 19,
   "id": "d4f0f001",
   "metadata": {},
   "outputs": [
    {
     "data": {
      "text/plain": [
       "array([[ 10.  ,  13.75,  17.5 ,  21.25,  25.  ],\n",
       "       [ 28.75,  32.5 ,  36.25,  40.  ,  43.75],\n",
       "       [ 47.5 ,  51.25,  55.  ,  58.75,  62.5 ],\n",
       "       [ 66.25,  70.  ,  73.75,  77.5 ,  81.25],\n",
       "       [ 85.  ,  88.75,  92.5 ,  96.25, 100.  ]])"
      ]
     },
     "execution_count": 19,
     "metadata": {},
     "output_type": "execute_result"
    }
   ],
   "source": [
    "rishabh=rishabh.reshape(5,5)\n",
    "rishabh"
   ]
  },
  {
   "cell_type": "code",
   "execution_count": 20,
   "id": "fcf12182",
   "metadata": {},
   "outputs": [
    {
     "data": {
      "text/plain": [
       "array([[ 10.  ,  28.75,  47.5 ,  66.25,  85.  ],\n",
       "       [ 13.75,  32.5 ,  51.25,  70.  ,  88.75],\n",
       "       [ 17.5 ,  36.25,  55.  ,  73.75,  92.5 ],\n",
       "       [ 21.25,  40.  ,  58.75,  77.5 ,  96.25],\n",
       "       [ 25.  ,  43.75,  62.5 ,  81.25, 100.  ]])"
      ]
     },
     "execution_count": 20,
     "metadata": {},
     "output_type": "execute_result"
    }
   ],
   "source": [
    "Transpose=rishabh.T\n",
    "Transpose"
   ]
  },
  {
   "cell_type": "markdown",
   "id": "b90b7f3d",
   "metadata": {},
   "source": [
    "## Q5"
   ]
  },
  {
   "cell_type": "code",
   "execution_count": 21,
   "id": "95f12fec",
   "metadata": {},
   "outputs": [
    {
     "data": {
      "text/plain": [
       "array([[10, 20, 30, 40],\n",
       "       [50, 60, 70, 80],\n",
       "       [90, 15, 20, 35]])"
      ]
     },
     "execution_count": 21,
     "metadata": {},
     "output_type": "execute_result"
    }
   ],
   "source": [
    "ucs420_rishabh=np.array([[10,20,30,40,50,60,70,80,90,15,20,35]]).reshape(3,4)\n",
    "ucs420_rishabh"
   ]
  },
  {
   "cell_type": "code",
   "execution_count": 22,
   "id": "cc1da588",
   "metadata": {},
   "outputs": [
    {
     "data": {
      "text/plain": [
       "43.333333333333336"
      ]
     },
     "execution_count": 22,
     "metadata": {},
     "output_type": "execute_result"
    }
   ],
   "source": [
    "#mean\n",
    "ucs420_rishabh.mean()"
   ]
  },
  {
   "cell_type": "code",
   "execution_count": 23,
   "id": "580b9da3",
   "metadata": {},
   "outputs": [
    {
     "data": {
      "text/plain": [
       "37.5"
      ]
     },
     "execution_count": 23,
     "metadata": {},
     "output_type": "execute_result"
    }
   ],
   "source": [
    "#median\n",
    "np.median(ucs420_rishabh)"
   ]
  },
  {
   "cell_type": "code",
   "execution_count": 24,
   "id": "f002dd59",
   "metadata": {},
   "outputs": [
    {
     "data": {
      "text/plain": [
       "90"
      ]
     },
     "execution_count": 24,
     "metadata": {},
     "output_type": "execute_result"
    }
   ],
   "source": [
    "#maximum\n",
    "ucs420_rishabh.max()"
   ]
  },
  {
   "cell_type": "code",
   "execution_count": 25,
   "id": "598c72bc",
   "metadata": {},
   "outputs": [
    {
     "data": {
      "text/plain": [
       "10"
      ]
     },
     "execution_count": 25,
     "metadata": {},
     "output_type": "execute_result"
    }
   ],
   "source": [
    "#minimum\n",
    "ucs420_rishabh.min()"
   ]
  },
  {
   "cell_type": "code",
   "execution_count": 26,
   "id": "85dc50e9",
   "metadata": {},
   "outputs": [
    {
     "data": {
      "text/plain": [
       "array([10, 15, 20, 30, 35, 40, 50, 60, 70, 80, 90])"
      ]
     },
     "execution_count": 26,
     "metadata": {},
     "output_type": "execute_result"
    }
   ],
   "source": [
    "#unique values\n",
    "np.unique(ucs420_rishabh)"
   ]
  },
  {
   "cell_type": "code",
   "execution_count": 27,
   "id": "d7545542",
   "metadata": {},
   "outputs": [
    {
     "data": {
      "text/plain": [
       "array([[10, 20, 30],\n",
       "       [40, 50, 60],\n",
       "       [70, 80, 90],\n",
       "       [15, 20, 35]])"
      ]
     },
     "execution_count": 27,
     "metadata": {},
     "output_type": "execute_result"
    }
   ],
   "source": [
    "reshaped_ucs420_rishabh=ucs420_rishabh.reshape(4,3)\n",
    "reshaped_ucs420_rishabh"
   ]
  },
  {
   "cell_type": "code",
   "execution_count": 28,
   "id": "e70a9b26",
   "metadata": {},
   "outputs": [
    {
     "data": {
      "text/plain": [
       "array([[10, 20, 30],\n",
       "       [50, 60, 70]])"
      ]
     },
     "execution_count": 28,
     "metadata": {},
     "output_type": "execute_result"
    }
   ],
   "source": [
    "resized_ucs420_rishabh=ucs420_rishabh[:2,:3]\n",
    "resized_ucs420_rishabh"
   ]
  }
 ],
 "metadata": {
  "kernelspec": {
   "display_name": "Python 3 (ipykernel)",
   "language": "python",
   "name": "python3"
  },
  "language_info": {
   "codemirror_mode": {
    "name": "ipython",
    "version": 3
   },
   "file_extension": ".py",
   "mimetype": "text/x-python",
   "name": "python",
   "nbconvert_exporter": "python",
   "pygments_lexer": "ipython3",
   "version": "3.12.3"
  }
 },
 "nbformat": 4,
 "nbformat_minor": 5
}
