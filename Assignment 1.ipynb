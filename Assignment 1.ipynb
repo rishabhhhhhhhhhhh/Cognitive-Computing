{
 "cells": [
  {
   "cell_type": "markdown",
   "metadata": {},
   "source": [
    "# Assignment 1"
   ]
  },
  {
   "cell_type": "code",
   "execution_count": 1,
   "metadata": {},
   "outputs": [
    {
     "name": "stdout",
     "output_type": "stream",
     "text": [
      "Rishabh Garg\n",
      "Rishabh Garg\n",
      "Rishabh Garg\n"
     ]
    }
   ],
   "source": [
    "#Assingment 1.1: WAP to print your name three times\n",
    "print(\"Rishabh Garg\")\n",
    "print(\"Rishabh Garg\")\n",
    "print(\"Rishabh Garg\")"
   ]
  },
  {
   "cell_type": "code",
   "execution_count": 2,
   "metadata": {},
   "outputs": [
    {
     "data": {
      "text/plain": [
       "103"
      ]
     },
     "execution_count": 2,
     "metadata": {},
     "output_type": "execute_result"
    }
   ],
   "source": [
    "#Assingment 2.1: WAP to add three numbers and print the result.\n",
    "a=15\n",
    "b=25\n",
    "c=63\n",
    "a+b+c"
   ]
  },
  {
   "cell_type": "code",
   "execution_count": 3,
   "metadata": {},
   "outputs": [
    {
     "name": "stdout",
     "output_type": "stream",
     "text": [
      "It is raining since morning\n"
     ]
    }
   ],
   "source": [
    "#Assingment 2.2: WAP to concatinate three strings and print the result.\n",
    "a=\"It is \"\n",
    "b=\"raining \"\n",
    "c=\"since morning\"\n",
    "print(a+b+c)"
   ]
  },
  {
   "cell_type": "code",
   "execution_count": 4,
   "metadata": {},
   "outputs": [
    {
     "name": "stdout",
     "output_type": "stream",
     "text": [
      "7 X 1 = 7\t9 X 1 = 9\n",
      "7 X 2 = 14\t9 X 2 = 18\n",
      "7 X 3 = 21\t9 X 3 = 27\n",
      "7 X 4 = 28\t9 X 4 = 36\n",
      "7 X 5 = 35\t9 X 5 = 45\n",
      "7 X 6 = 42\t9 X 6 = 54\n",
      "7 X 7 = 49\t9 X 7 = 63\n",
      "7 X 8 = 56\t9 X 8 = 72\n",
      "7 X 9 = 63\t9 X 9 = 81\n",
      "7 X 10 = 70\t9 X 10 = 90\n"
     ]
    }
   ],
   "source": [
    "#Assingment 4.1: WAP to print the table of 7, 9.\n",
    "for i in range(1,11):\n",
    "    print(f\"{7} X {i} = {7*i}\",end=\"\\t\")\n",
    "    print(f\"{9} X {i} = {9*i}\")"
   ]
  },
  {
   "cell_type": "code",
   "execution_count": 5,
   "metadata": {},
   "outputs": [
    {
     "name": "stdout",
     "output_type": "stream",
     "text": [
      "Enter the number19\n",
      "19 X 1 = 19\n",
      "19 X 2 = 38\n",
      "19 X 3 = 57\n",
      "19 X 4 = 76\n",
      "19 X 5 = 95\n",
      "19 X 6 = 114\n",
      "19 X 7 = 133\n",
      "19 X 8 = 152\n",
      "19 X 9 = 171\n",
      "19 X 10 = 190\n"
     ]
    }
   ],
   "source": [
    "#Assingment 4.2: WAP to print the table of n and n is given by user.\n",
    "n=int(input(\"Enter the number\"))\n",
    "for i in range(1,11):\n",
    "    print(f\"{n} X {i} = {n*i}\")"
   ]
  },
  {
   "cell_type": "code",
   "execution_count": 6,
   "metadata": {},
   "outputs": [
    {
     "name": "stdout",
     "output_type": "stream",
     "text": [
      "Enter the number100\n",
      "Sum of number 1 to 100 is 5050\n"
     ]
    }
   ],
   "source": [
    "#Assingment 4.3: WAP to add all the numbers from 1 to n and n is given by user.\n",
    "n=int(input(\"Enter the number\"))\n",
    "sum=0\n",
    "for i in range(1,n+1):\n",
    "    sum=sum+i\n",
    "print(f\"Sum of number 1 to {n} is\",sum)"
   ]
  },
  {
   "cell_type": "code",
   "execution_count": 7,
   "metadata": {},
   "outputs": [
    {
     "name": "stdout",
     "output_type": "stream",
     "text": [
      "Enter the number15\n",
      "Enter the number18\n",
      "Enter the number21\n",
      "Largest of 15, 18 and 21 is 21\n"
     ]
    }
   ],
   "source": [
    "#Assingment 5.1: WAP to find max amoung three numbers and input from user. [Try max() function]\n",
    "a=int(input(\"Enter the number\"))\n",
    "b=int(input(\"Enter the number\"))\n",
    "c=int(input(\"Enter the number\"))\n",
    "print(f\"Largest of {a}, {b} and {c} is\",max(a,b,c))"
   ]
  },
  {
   "cell_type": "code",
   "execution_count": 12,
   "metadata": {},
   "outputs": [
    {
     "name": "stdout",
     "output_type": "stream",
     "text": [
      "Enter the number60\n",
      "Number divisble by 7 and 9 from 1 to 60: \n"
     ]
    }
   ],
   "source": [
    "#Assingment 5.2: WAP to add all numbers divisible by 7 and 9 from 1 to n and n is given by the user.\n",
    "n=int(input(\"Enter the number\"))\n",
    "print(f\"Number divisble by 7 and 9 from 1 to {n}: \")\n",
    "for i in range(1,n+1):\n",
    "    if(i%7==0 and i%9==0):\n",
    "        print(f\"{i}\")"
   ]
  },
  {
   "cell_type": "code",
   "execution_count": 9,
   "metadata": {},
   "outputs": [
    {
     "name": "stdout",
     "output_type": "stream",
     "text": [
      "Enter the number19\n",
      "Sum of all the Prime numbers from 1 to n are: 77\n"
     ]
    }
   ],
   "source": [
    "#Assingment 5.3: WAP to add all prime numbers from 1 to n and n is given by the user.\n",
    "n=int(input(\"Enter the number\"))\n",
    "print(\"Sum of all the Prime numbers from 1 to n are: \",end=\"\")\n",
    "sum=0\n",
    "for i in range(1,n+1):\n",
    "    count=0\n",
    "    for j in range(1,i+1):\n",
    "        if(i%j==0):\n",
    "            count=count+1\n",
    "    if(count==2):\n",
    "        sum=sum+i\n",
    "print(sum)"
   ]
  },
  {
   "cell_type": "code",
   "execution_count": 10,
   "metadata": {},
   "outputs": [
    {
     "name": "stdout",
     "output_type": "stream",
     "text": [
      "Enter the number100\n",
      "Sum of odd numbers from 1 to 100 is 2500\n"
     ]
    }
   ],
   "source": [
    "#Assingment 6.1: WAP using function that add all odd numbers from 1 to n, n is given by the user.\n",
    "def sum_of_odd():\n",
    "    n=int(input(\"Enter the number\"))\n",
    "    sum=0\n",
    "    for i in range(1,n+1):\n",
    "        if(i%2!=0):\n",
    "            sum=sum+i\n",
    "    print(f\"Sum of odd numbers from {1} to {n} is\",sum)\n",
    "\n",
    "sum_of_odd()"
   ]
  },
  {
   "cell_type": "code",
   "execution_count": 11,
   "metadata": {},
   "outputs": [
    {
     "name": "stdout",
     "output_type": "stream",
     "text": [
      "Enter the number19\n",
      "Sum of Prime numbers from 1 to 19 are: 77\n"
     ]
    }
   ],
   "source": [
    "#Assingment 6.2: WAP using function that add all prime numbers from 1 to n, n given by the user.\n",
    "def sum_of_prime(n):\n",
    "    sum=0\n",
    "    for i in range(1,n+1):\n",
    "        count=0\n",
    "        for j in range(1,i+1):\n",
    "            if(i%j==0):\n",
    "                count=count+1\n",
    "        if(count==2):\n",
    "            sum=sum+i\n",
    "    return sum\n",
    "\n",
    "\n",
    "n=int(input(\"Enter the number\"))\n",
    "print(f\"Sum of Prime numbers from 1 to {n} are:\",sum_of_prime(n))"
   ]
  }
 ],
 "metadata": {
  "kernelspec": {
   "display_name": "Python 3 (ipykernel)",
   "language": "python",
   "name": "python3"
  },
  "language_info": {
   "codemirror_mode": {
    "name": "ipython",
    "version": 3
   },
   "file_extension": ".py",
   "mimetype": "text/x-python",
   "name": "python",
   "nbconvert_exporter": "python",
   "pygments_lexer": "ipython3",
   "version": "3.12.3"
  }
 },
 "nbformat": 4,
 "nbformat_minor": 2
}
